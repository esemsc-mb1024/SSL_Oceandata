{
 "cells": [
  {
   "cell_type": "markdown",
   "id": "ffeff24b",
   "metadata": {},
   "source": [
    "Initial CNN archtecture"
   ]
  },
  {
   "cell_type": "code",
   "execution_count": 4,
   "id": "37b86357",
   "metadata": {},
   "outputs": [],
   "source": [
    "import torch\n",
    "import torch.nn as nn\n",
    "import torch.optim as optim\n",
    "from torch.utils.data import DataLoader\n",
    "from torchvision import datasets, transforms\n",
    "import numpy as np\n",
    "import matplotlib.pyplot as plt\n",
    "from sklearn.metrics import ConfusionMatrixDisplay"
   ]
  },
  {
   "cell_type": "code",
   "execution_count": 12,
   "id": "232b7aa2",
   "metadata": {},
   "outputs": [],
   "source": [
    "# initial CNN model placeholder\n",
    "class simple_cnn(nn.Module):\n",
    "    def __init__(self):\n",
    "        super().init()\n",
    "        self.c1 = nn.Conv2d(1, 32, kernel_Size=3, stride=1, padding=1)\n",
    "        self.p1 = nn.MaxPool2d(kernel_size=2, stride=2)\n",
    "        self.c2 = nn.Conv2d(32, 64, kernel_size=3, stride=1, padding=1)\n",
    "        self.p2 = nn.MaxPool2d(kernel_size=2, stride=2)\n",
    "        self.c3 = nn.Conv2d(64, 128, kernel_size=3, stride=1, padding=1)\n",
    "        self.p3 = nn.MaxPool2d(kernel_size=2, stride=2)\n",
    "        self.act = nn.ReLU()\n",
    "        self.avg = nn.AdaptiveAvgPool2d((1, 1))\n",
    "\n",
    "\n",
    "\n",
    "    def forward(self, x):\n",
    "        x = self.act(self.c1(x))\n",
    "        x = self.p1(x)\n",
    "        x = self.act(self.c2(x))\n",
    "        x = self.p2(x)  \n",
    "        x = self.act(self.c3(x))\n",
    "        x = self.p3(x)\n",
    "        x = self.avg(x)\n",
    "        return x.view(x.size(0), -1)  # Flatten the output\n",
    "        \n",
    "\n"
   ]
  },
  {
   "cell_type": "code",
   "execution_count": null,
   "id": "a0169ed6",
   "metadata": {},
   "outputs": [],
   "source": [
    "# Data augmentation placeholder \n",
    "class contrastive_transforms:\n",
    "    def __init__(self):\n",
    "        self.transform = transforms.Compose([\n",
    "            transforms.RandomHorizontalFlip(),\n",
    "            transforms.RandomRotation(10),\n",
    "            transforms.RandomResizedCrop(32),\n",
    "            transforms.ColorJitter(0.4, 0.4, 0.4, 0.1),\n",
    "            transforms.ToTensor(),\n",
    "            transforms.Normalize((0.5,), (0.5,))   # need to normalise custom dataset to have mean 0 and std 1\n",
    "        ])\n",
    "\n",
    "    def __call__(self, x):   # calls the funtion when an instance of the class is called\n",
    "        return self.transform(x), self.transform(x)"
   ]
  },
  {
   "cell_type": "code",
   "execution_count": 13,
   "id": "6d014bbb",
   "metadata": {},
   "outputs": [],
   "source": [
    "# Initial SimCLR model placeholder\n",
    "class SimCLR(nn.Module):\n",
    "    def __init__(self, base_encoder, out_dim=64):\n",
    "        super().__init__()\n",
    "        self.encoder = base_encoder\n",
    "        self.projector = nn.Sequential(\n",
    "            nn.Linear(128, 128),\n",
    "            nn.ReLU(),\n",
    "            nn.Linear(128, out_dim)\n",
    "        )\n",
    "\n",
    "    def forward(self, x):\n",
    "        h = self.encoder(x)\n",
    "        z = self.projector(h)\n",
    "        return z"
   ]
  }
 ],
 "metadata": {
  "kernelspec": {
   "display_name": "WV_setup",
   "language": "python",
   "name": "python3"
  },
  "language_info": {
   "codemirror_mode": {
    "name": "ipython",
    "version": 3
   },
   "file_extension": ".py",
   "mimetype": "text/x-python",
   "name": "python",
   "nbconvert_exporter": "python",
   "pygments_lexer": "ipython3",
   "version": "3.12.0"
  }
 },
 "nbformat": 4,
 "nbformat_minor": 5
}
